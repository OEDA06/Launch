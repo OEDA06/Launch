{
 "cells": [
  {
   "cell_type": "markdown",
   "metadata": {},
   "source": [
    "Ejercisio 1"
   ]
  },
  {
   "cell_type": "code",
   "execution_count": 4,
   "metadata": {},
   "outputs": [
    {
     "name": "stdout",
     "output_type": "stream",
     "text": [
      "Reporte de combustible:\n",
      "    Tanque principal: 88%\n",
      "    Tanque Externo: 76%\n",
      "    Tanque de Hidrogeno: 70%\n",
      "    Promedio total: 78.0%\n",
      "    \n"
     ]
    }
   ],
   "source": [
    "def reporte(tanp, tex, thi):\n",
    "    return f\"\"\"Reporte de combustible:\n",
    "    Tanque principal: {tanp}%\n",
    "    Tanque Externo: {tex}%\n",
    "    Tanque de Hidrogeno: {thi}%\n",
    "    Promedio total: {average([tanp, tex, thi])}%\n",
    "    \"\"\"\n",
    "def average(val):\n",
    "    total = sum(val)\n",
    "    no = len(val)\n",
    "    return total / no\n",
    "print(reporte(88, 76, 70))"
   ]
  },
  {
   "cell_type": "markdown",
   "metadata": {},
   "source": [
    "Ejercisio 2"
   ]
  },
  {
   "cell_type": "code",
   "execution_count": 9,
   "metadata": {},
   "outputs": [
    {
     "name": "stdout",
     "output_type": "stream",
     "text": [
      "\n",
      "    Mision hacia Luna\n",
      "    Tiempo de viaje: 74 minutes\n",
      "    Tiempo de llegada: 500000\n",
      "    Tanque principal tiene 300000 Galones restantes\n",
      "Tanque externo tiene 200000 Galones restantes\n",
      "\n"
     ]
    }
   ],
   "source": [
    "def reporte(dest, *minutes, **reserva):\n",
    "    reporte_p = f\"\"\"\n",
    "    Mision hacia {dest}\n",
    "    Tiempo de viaje: {sum(minutes)} minutes\n",
    "    Tiempo de llegada: {sum(reserva.values())}\n",
    "    \"\"\"\n",
    "    for tn, g in reserva.items():\n",
    "        reporte_p += f\"Tanque {tn} tiene {g} Galones restantes\\n\"\n",
    "    return reporte_p\n",
    "\n",
    "print(reporte(\"Luna\", 8, 11, 55, principal=300000, externo=200000))"
   ]
  }
 ],
 "metadata": {
  "interpreter": {
   "hash": "4832126f7d4047808203b0af11e9afdb260dabb5323c882ffc138c3bbac44c58"
  },
  "kernelspec": {
   "display_name": "Python 3.10.2 64-bit",
   "language": "python",
   "name": "python3"
  },
  "language_info": {
   "codemirror_mode": {
    "name": "ipython",
    "version": 3
   },
   "file_extension": ".py",
   "mimetype": "text/x-python",
   "name": "python",
   "nbconvert_exporter": "python",
   "pygments_lexer": "ipython3",
   "version": "3.10.2"
  },
  "orig_nbformat": 4
 },
 "nbformat": 4,
 "nbformat_minor": 2
}
