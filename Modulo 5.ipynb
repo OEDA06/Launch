{
 "cells": [
  {
   "cell_type": "markdown",
   "metadata": {},
   "source": [
    "Ejercisio 1"
   ]
  },
  {
   "cell_type": "code",
   "execution_count": 3,
   "metadata": {},
   "outputs": [
    {
     "name": "stdout",
     "output_type": "stream",
     "text": [
      "238371796\n",
      "148028885.31599998\n"
     ]
    }
   ],
   "source": [
    "planet1 = 628949330\n",
    "planet2 = 390577534\n",
    "d = planet1 - planet2\n",
    "dm = d * 0.621\n",
    "print(d)\n",
    "print(dm)"
   ]
  },
  {
   "cell_type": "markdown",
   "metadata": {},
   "source": [
    "Ejercisio 2"
   ]
  },
  {
   "cell_type": "code",
   "execution_count": 5,
   "metadata": {},
   "outputs": [
    {
     "name": "stdout",
     "output_type": "stream",
     "text": [
      "110779091\n",
      "68793815.51099999\n"
     ]
    }
   ],
   "source": [
    "p1 = input('Distancia del planeta uno en kilometros')\n",
    "p1 = int(p1)\n",
    "p2 = input('Distancia del planeta 2 en kilometros')\n",
    "p2 = int(p2)\n",
    "dkm = p2 - p1\n",
    "dm = dkm * 0.621\n",
    "print(dkm)\n",
    "print(abs(dm))"
   ]
  }
 ],
 "metadata": {
  "interpreter": {
   "hash": "4832126f7d4047808203b0af11e9afdb260dabb5323c882ffc138c3bbac44c58"
  },
  "kernelspec": {
   "display_name": "Python 3.10.2 64-bit",
   "language": "python",
   "name": "python3"
  },
  "language_info": {
   "codemirror_mode": {
    "name": "ipython",
    "version": 3
   },
   "file_extension": ".py",
   "mimetype": "text/x-python",
   "name": "python",
   "nbconvert_exporter": "python",
   "pygments_lexer": "ipython3",
   "version": "3.10.2"
  },
  "orig_nbformat": 4
 },
 "nbformat": 4,
 "nbformat_minor": 2
}
