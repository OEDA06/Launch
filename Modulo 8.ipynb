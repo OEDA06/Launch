{
 "cells": [
  {
   "cell_type": "markdown",
   "metadata": {},
   "source": [
    "Ejercisio 1"
   ]
  },
  {
   "cell_type": "code",
   "execution_count": 12,
   "metadata": {},
   "outputs": [
    {
     "name": "stdout",
     "output_type": "stream",
     "text": [
      "Mars has 2 moons\n",
      "Marte tiene una circunferencia polar de 6752\n"
     ]
    }
   ],
   "source": [
    "p = {    \n",
    "    'nombre': 'Marte',\n",
    "     'lunas': 2\n",
    "}\n",
    "p['circumferencia en km'] = {\n",
    "    'polar': 6752,\n",
    "    'equatorial': 6792\n",
    "}\n",
    "print(f'{planet[\"name\"]} has {planet[\"moons\"]} moons')\n",
    "print(f'{p[\"nombre\"]} tiene una circunferencia polar de {p[\"circumferencia en km\"][\"polar\"]}')"
   ]
  },
  {
   "cell_type": "markdown",
   "metadata": {},
   "source": [
    "Ejercisio 2"
   ]
  },
  {
   "cell_type": "code",
   "execution_count": 4,
   "metadata": {},
   "outputs": [
    {
     "name": "stdout",
     "output_type": "stream",
     "text": [
      "17.833333333333332\n"
     ]
    }
   ],
   "source": [
    "planet_moons = {\n",
    "    'mercury': 0,\n",
    "    'venus': 0,\n",
    "    'earth': 1,\n",
    "    'mars': 2,\n",
    "    'jupiter': 79,\n",
    "    'saturn': 82,\n",
    "    'uranus': 27,\n",
    "    'neptune': 14,\n",
    "    'pluto': 5,\n",
    "    'haumea': 2,\n",
    "    'makemake': 1,\n",
    "    'eris': 1\n",
    "}\n",
    "lunas = planet_moons.values()\n",
    "planetas = len(planet_moons.keys())\n",
    "lunast = 0\n",
    "for luna in lunas:\n",
    "    lunast = lunast + luna\n",
    "prom = lunast / planetas\n",
    "print(prom)"
   ]
  }
 ],
 "metadata": {
  "interpreter": {
   "hash": "4832126f7d4047808203b0af11e9afdb260dabb5323c882ffc138c3bbac44c58"
  },
  "kernelspec": {
   "display_name": "Python 3.10.2 64-bit",
   "language": "python",
   "name": "python3"
  },
  "language_info": {
   "codemirror_mode": {
    "name": "ipython",
    "version": 3
   },
   "file_extension": ".py",
   "mimetype": "text/x-python",
   "name": "python",
   "nbconvert_exporter": "python",
   "pygments_lexer": "ipython3",
   "version": "3.10.2"
  },
  "orig_nbformat": 4
 },
 "nbformat": 4,
 "nbformat_minor": 2
}
