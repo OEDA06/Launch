{
 "cells": [
  {
   "cell_type": "markdown",
   "metadata": {},
   "source": [
    "Ejercisio 1"
   ]
  },
  {
   "cell_type": "code",
   "execution_count": 1,
   "metadata": {},
   "outputs": [
    {
     "name": "stdout",
     "output_type": "stream",
     "text": [
      "¡Alerta! ¡Un asteroide se acerca a velocidades peligrosas!\n"
     ]
    }
   ],
   "source": [
    "asteroide = 49\n",
    "if asteroide > 25:\n",
    "    print('¡Alerta! ¡Un asteroide se acerca a velocidades peligrosas!')\n",
    "else:\n",
    "    print('¡Sigue con tu día!')"
   ]
  },
  {
   "cell_type": "markdown",
   "metadata": {},
   "source": [
    "Ejercisio 2"
   ]
  },
  {
   "cell_type": "code",
   "execution_count": 3,
   "metadata": {},
   "outputs": [
    {
     "name": "stdout",
     "output_type": "stream",
     "text": [
      "¡El cielo esta despejado!\n"
     ]
    }
   ],
   "source": [
    "asteroid = 19\n",
    "if asteroid > 20:\n",
    "    print('!Asteroide a la vista!')\n",
    "elif asteroid == 20:\n",
    "    print('!Asteroide a la vista!')\n",
    "else:\n",
    "    print('¡El cielo esta despejado!')"
   ]
  },
  {
   "cell_type": "markdown",
   "metadata": {},
   "source": [
    "EJercisio 3"
   ]
  },
  {
   "cell_type": "code",
   "execution_count": null,
   "metadata": {},
   "outputs": [],
   "source": [
    "a_v = 25\n",
    "t_a = 40\n",
    "if a_v > 25 and t_a > 25:\n",
    "    print('¡Asteroide acercandose!')\n",
    "elif a_v >= 20:\n",
    "    print('¡Asteroide a la vista!')\n",
    "elif t_a < 25:\n",
    "    print('El cielo esta despejado')\n",
    "else:\n",
    "    print('El cielo esta despejado')"
   ]
  }
 ],
 "metadata": {
  "interpreter": {
   "hash": "a5dfa89341487667b4694746cc005cb7d809aa3afa08e50ecf56e52199e4c5a0"
  },
  "kernelspec": {
   "display_name": "Python 3.10.2 64-bit",
   "language": "python",
   "name": "python3"
  },
  "language_info": {
   "codemirror_mode": {
    "name": "ipython",
    "version": 3
   },
   "file_extension": ".py",
   "mimetype": "text/x-python",
   "name": "python",
   "nbconvert_exporter": "python",
   "pygments_lexer": "ipython3",
   "version": "3.10.2"
  },
  "orig_nbformat": 4
 },
 "nbformat": 4,
 "nbformat_minor": 2
}
